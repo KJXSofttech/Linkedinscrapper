{
 "cells": [
  {
   "cell_type": "code",
   "execution_count": 23,
   "metadata": {},
   "outputs": [],
   "source": [
    "from selenium import webdriver\n",
    "from selenium.webdriver.chrome.service import Service\n",
    "from selenium.webdriver.common.by import By\n",
    "import time\n",
    "\n",
    "def login(driver, email, password):\n",
    "    driver.get(\"https://www.linkedin.com/login\")\n",
    "    email_elem = driver.find_element(By.ID, \"username\")\n",
    "    email_elem.send_keys(email)\n",
    "    password_elem = driver.find_element(By.ID, \"password\")\n",
    "    password_elem.send_keys(password)\n",
    "    password_elem.submit()\n",
    "\n",
    "def save_html_to_file(driver, profile_url, file_name):\n",
    "    driver.get(profile_url)\n",
    "    time.sleep(5)\n",
    "    html_content = driver.page_source\n",
    "    \n",
    "    with open(file_name, 'w', encoding='utf-8') as file:\n",
    "        file.write(html_content)\n",
    "\n",
    "def main(email, password, profile_link):\n",
    "    driver_path = r'C:\\\\KJX\\\\Linkedinscrapper\\\\chromedriver.exe'\n",
    "    service = Service(driver_path)\n",
    "    driver = webdriver.Chrome(service=service)\n",
    "    login(driver, email, password)\n",
    "    \n",
    "    save_html_to_file(driver, profile_link, \"HTML1.txt\")\n",
    "    \n",
    "    driver.quit()\n",
    "\n",
    "if __name__ == \"__main__\":\n",
    "    email = input(\"Enter your LinkedIn email: \")\n",
    "    password = input(\"Enter your LinkedIn password: \")\n",
    "    profile_link = \"https://www.linkedin.com/in/nicolarobertsliverpool/\"\n",
    "    main(email, password, profile_link)\n"
   ]
  },
  {
   "cell_type": "code",
   "execution_count": 24,
   "metadata": {},
   "outputs": [
    {
     "name": "stdout",
     "output_type": "stream",
     "text": [
      "https://media.licdn.com/dms/image/D4D03AQHutuTCjNKsFg/profile-displayphoto-shrink_400_400/0/1718211634878?e=1727308800&v=beta&t=oy8s0g82TYYj_1qx3crSIVKxpgOo3g-XN6kKueW_WE4\n"
     ]
    }
   ],
   "source": [
    "from bs4 import BeautifulSoup\n",
    "\n",
    "# Read HTML content from the html.txt file\n",
    "with open('HTML1.txt', 'r', encoding='utf-8') as file:\n",
    "    html_content = file.read()\n",
    "\n",
    "soup = BeautifulSoup(html_content, 'html.parser')\n",
    "\n",
    "profile_pictures = []\n",
    "for img_tag in soup.find_all('img', class_='pv-top-card-profile-picture__image--show'):\n",
    "    profile_pictures.append(img_tag['src'])\n",
    "\n",
    "for picture in profile_pictures:\n",
    "    print(picture)\n"
   ]
  },
  {
   "cell_type": "code",
   "execution_count": null,
   "metadata": {},
   "outputs": [],
   "source": []
  }
 ],
 "metadata": {
  "kernelspec": {
   "display_name": "Python 3",
   "language": "python",
   "name": "python3"
  },
  "language_info": {
   "codemirror_mode": {
    "name": "ipython",
    "version": 3
   },
   "file_extension": ".py",
   "mimetype": "text/x-python",
   "name": "python",
   "nbconvert_exporter": "python",
   "pygments_lexer": "ipython3",
   "version": "3.12.4"
  }
 },
 "nbformat": 4,
 "nbformat_minor": 2
}
